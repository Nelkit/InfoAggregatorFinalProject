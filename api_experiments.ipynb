{
 "cells": [
  {
   "cell_type": "markdown",
   "id": "7652eed3",
   "metadata": {},
   "source": [
    "### API exploration and limitations\n",
    "- Topic: Enviroment and Climate Change"
   ]
  }
 ],
 "metadata": {
  "language_info": {
   "name": "python"
  }
 },
 "nbformat": 4,
 "nbformat_minor": 5
}
